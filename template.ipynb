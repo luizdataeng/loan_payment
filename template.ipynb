{
  "nbformat": 4,
  "nbformat_minor": 0,
  "metadata": {
    "colab": {
      "provenance": []
    },
    "kernelspec": {
      "name": "python3",
      "display_name": "Python 3"
    },
    "language_info": {
      "name": "python"
    }
  },
  "cells": [
    {
      "cell_type": "code",
      "execution_count": null,
      "metadata": {
        "id": "AB7AvTA3DtwQ"
      },
      "outputs": [],
      "source": []
    },
    {
      "cell_type": "markdown",
      "source": [
        "# 0.0 IMPORTS"
      ],
      "metadata": {
        "id": "tgnw07wGEPmN"
      }
    },
    {
      "cell_type": "markdown",
      "source": [
        "## 0.1 Helper Functions"
      ],
      "metadata": {
        "id": "gOCtvpz_EUYq"
      }
    },
    {
      "cell_type": "markdown",
      "source": [
        "## 0.2 Path Definition"
      ],
      "metadata": {
        "id": "ALC9AmrvEzyI"
      }
    },
    {
      "cell_type": "markdown",
      "source": [
        "## 0.3 Load Data"
      ],
      "metadata": {
        "id": "oOstZMKrEgfA"
      }
    },
    {
      "cell_type": "markdown",
      "source": [
        "# 1.0 DATA DESCRIPTION"
      ],
      "metadata": {
        "id": "JfRyFDghEl_z"
      }
    },
    {
      "cell_type": "markdown",
      "source": [
        "## 1.1 Data fields"
      ],
      "metadata": {
        "id": "YPgF-BipE_xc"
      }
    },
    {
      "cell_type": "markdown",
      "source": [
        "## 1.2 Rename Columns (camel_case ou SnakeCase)"
      ],
      "metadata": {
        "id": "DdvUKvpNFHnl"
      }
    },
    {
      "cell_type": "markdown",
      "source": [
        "## 1.3 Data Types"
      ],
      "metadata": {
        "id": "8_LO9J3uFW3L"
      }
    },
    {
      "cell_type": "markdown",
      "source": [
        "## 1.4 Check NANs"
      ],
      "metadata": {
        "id": "P15CwnVWFgb0"
      }
    },
    {
      "cell_type": "markdown",
      "source": [
        "## 1.5 Fillout NaNs"
      ],
      "metadata": {
        "id": "nCK051DNFjbG"
      }
    },
    {
      "cell_type": "markdown",
      "source": [
        "## 1.6 Change Types"
      ],
      "metadata": {
        "id": "iDNxhGduF6ln"
      }
    },
    {
      "cell_type": "markdown",
      "source": [
        "## 1.7 Descritive Statistical"
      ],
      "metadata": {
        "id": "CAUx_ifiGJ1Z"
      }
    },
    {
      "cell_type": "markdown",
      "source": [
        "### 1.7.1 Numeric Attributes"
      ],
      "metadata": {
        "id": "toygliegGOwS"
      }
    },
    {
      "cell_type": "markdown",
      "source": [
        "### 1.7.2 Categoric Attributes"
      ],
      "metadata": {
        "id": "pO8MHdjUGXiS"
      }
    },
    {
      "cell_type": "markdown",
      "source": [
        "# 2.0 Feature Engineering"
      ],
      "metadata": {
        "id": "Z2HfkJmVGljg"
      }
    },
    {
      "cell_type": "markdown",
      "source": [
        "## 2.1 Hypothesis Mind Map"
      ],
      "metadata": {
        "id": "RmdL9BIdGor7"
      }
    },
    {
      "cell_type": "markdown",
      "source": [
        "## 2.2 Creating Hypothesis"
      ],
      "metadata": {
        "id": "AUZfJQJKGr--"
      }
    },
    {
      "cell_type": "markdown",
      "source": [
        "## 2.3 Final Hypothesis"
      ],
      "metadata": {
        "id": "Y2hXqRhbG1u2"
      }
    },
    {
      "cell_type": "markdown",
      "source": [
        "## 2.4 Feature Engineering"
      ],
      "metadata": {
        "id": "OB9vkbKLG6aS"
      }
    },
    {
      "cell_type": "markdown",
      "source": [
        "# 3.0 FILTER ATTRIBUTES OR ROWS"
      ],
      "metadata": {
        "id": "7NHJOHl3HPHB"
      }
    },
    {
      "cell_type": "markdown",
      "source": [
        "## 3.1 Filter Rows"
      ],
      "metadata": {
        "id": "49WR-DlrHZSz"
      }
    },
    {
      "cell_type": "markdown",
      "source": [
        "## 3.2 Filter Attributes"
      ],
      "metadata": {
        "id": "NWjLGaWtHbwR"
      }
    },
    {
      "cell_type": "markdown",
      "source": [
        "# 4.0 EDA"
      ],
      "metadata": {
        "id": "x0gRRo8ZHs1j"
      }
    },
    {
      "cell_type": "markdown",
      "source": [
        "## 4.1 Análise Univariada (Target)"
      ],
      "metadata": {
        "id": "s4C9T7YTHv4i"
      }
    },
    {
      "cell_type": "markdown",
      "source": [
        "## 4.2 Análise Bivariada (Target vs Attributes)"
      ],
      "metadata": {
        "id": "g5GO3TRUH1qZ"
      }
    },
    {
      "cell_type": "markdown",
      "source": [
        "## 4.3 Anaĺise Multivariada (Tudo vs Todos)"
      ],
      "metadata": {
        "id": "g9RVO0cpH7JF"
      }
    },
    {
      "cell_type": "markdown",
      "source": [
        "# 5.0 DATA PREPARATION"
      ],
      "metadata": {
        "id": "0sAXcv2IIOYJ"
      }
    },
    {
      "cell_type": "markdown",
      "source": [
        "## 5.1 NORMALIZATION"
      ],
      "metadata": {
        "id": "GUmtldoOIXSj"
      }
    },
    {
      "cell_type": "markdown",
      "source": [
        "## 5.2 STANDARTZATION (Padronização)"
      ],
      "metadata": {
        "id": "npslYiiwIcyO"
      }
    },
    {
      "cell_type": "markdown",
      "source": [
        "## 5.3 TRANSFORMATION"
      ],
      "metadata": {
        "id": "_4iT_j8eIsQK"
      }
    },
    {
      "cell_type": "markdown",
      "source": [
        "# 6.0 FEATURE SELECTION"
      ],
      "metadata": {
        "id": "_SjcfzLfI6pi"
      }
    },
    {
      "cell_type": "markdown",
      "source": [
        "## 6.1 Data Split"
      ],
      "metadata": {
        "id": "ragHg_2KJXjH"
      }
    },
    {
      "cell_type": "markdown",
      "source": [
        "## 6.1 Manual Feature Selection"
      ],
      "metadata": {
        "id": "xVslwjehI_xj"
      }
    },
    {
      "cell_type": "markdown",
      "source": [
        "## 6.2 Automatic Feature Selection (e.g, boruta)"
      ],
      "metadata": {
        "id": "edWon475JEme"
      }
    },
    {
      "cell_type": "markdown",
      "source": [
        "# 7.0 MACHINE LEARNING MODELING"
      ],
      "metadata": {
        "id": "prTfErF4JghR"
      }
    },
    {
      "cell_type": "markdown",
      "source": [
        "## 7.1 Model Baseline (regressão = média | classificação = 50%) - 1 run"
      ],
      "metadata": {
        "id": "jQJ_QkoRJz0L"
      }
    },
    {
      "cell_type": "markdown",
      "source": [
        "## 7.2 Linear Models - 1 run"
      ],
      "metadata": {
        "id": "_fXWKqu9KLgh"
      }
    },
    {
      "cell_type": "markdown",
      "source": [
        "## 7.3 Non-Linear Models - 1 run"
      ],
      "metadata": {
        "id": "CbmFQTa6KPH2"
      }
    },
    {
      "cell_type": "markdown",
      "source": [
        "## 7.4-7.6 - Rodar cross-validation e coletar o valor médio"
      ],
      "metadata": {
        "id": "he2fMzl8KnuI"
      }
    },
    {
      "cell_type": "markdown",
      "source": [
        "## 8.0 Hyperparameter Finetuning"
      ],
      "metadata": {
        "id": "bCJqLb1zK2K-"
      }
    },
    {
      "cell_type": "markdown",
      "source": [
        "## 8.1 Grid search/Random Search/Bayesing Search"
      ],
      "metadata": {
        "id": "X5UlzBHaLH_u"
      }
    },
    {
      "cell_type": "markdown",
      "source": [
        "## 8.2 Final Model (champion model)"
      ],
      "metadata": {
        "id": "zsZkdNWpLM2_"
      }
    },
    {
      "cell_type": "markdown",
      "source": [
        "# 9.0 TRADUÇÃO E INTERPRETAÇÃO DE ERROS"
      ],
      "metadata": {
        "id": "UAztESkuLSV4"
      }
    },
    {
      "cell_type": "markdown",
      "source": [
        "# 10.0 DEPLOY (APLICATION)"
      ],
      "metadata": {
        "id": "Yt0ZDMv0Lukc"
      }
    }
  ]
}